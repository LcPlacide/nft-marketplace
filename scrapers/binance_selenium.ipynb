{
 "cells": [
  {
   "cell_type": "markdown",
   "metadata": {},
   "source": [
    "# Mise à jour de la BDD de NFT\n",
    "Source: [binance.com](https://www.binance.com/en/nft/market?currency=&mediaType=&tradeType=&amountFrom=&amountTo=&categorys=&keyword=&page=1&rows=16&productIds=&order=list_time%40-1)"
   ]
  },
  {
   "cell_type": "code",
   "execution_count": 1,
   "metadata": {},
   "outputs": [],
   "source": [
    "import os\n",
    "import time\n",
    "import numpy as np\n",
    "from utils import *\n",
    "from tqdm import tqdm\n",
    "from selenium import webdriver\n",
    "from selenium.webdriver.common.desired_capabilities import DesiredCapabilities"
   ]
  },
  {
   "cell_type": "markdown",
   "metadata": {},
   "source": [
    "## 1. Ouverture du marketplace\n",
    "\n",
    "- Paramétrage du navigateur distant\n",
    "- Chargement de la page d'accueil\n",
    "- Activation des cookies "
   ]
  },
  {
   "cell_type": "code",
   "execution_count": 2,
   "metadata": {},
   "outputs": [
    {
     "name": "stdout",
     "output_type": "stream",
     "text": [
      "CPU times: user 36.4 ms, sys: 38.4 ms, total: 74.8 ms\n",
      "Wall time: 1min 33s\n"
     ]
    }
   ],
   "source": [
    "%%time\n",
    "start_url = 'https://www.binance.com/en/nft/market?currency=&mediaType=&tradeType=&amountFrom=&amountTo=&categorys=&keyword=&page=1&rows=16&productIds=&order=list_time%40-1'\n",
    "browser = webdriver.Remote(\"http://selenium:4444/wd/hub\", DesiredCapabilities.FIREFOX)\n",
    "browser.get(start_url)\n",
    "cookies = browser.find_element_by_xpath(\"//button[contains(text(),'Accept')]\")\n",
    "cookies.click()"
   ]
  },
  {
   "cell_type": "markdown",
   "metadata": {},
   "source": [
    "## 2. Défilement des pages sur le marketplace\n",
    " - Choix du nombre de nft à récupérer\n",
    " - Chargement des pages contenant les nfts à récuperer "
   ]
  },
  {
   "cell_type": "code",
   "execution_count": 4,
   "metadata": {},
   "outputs": [
    {
     "name": "stderr",
     "output_type": "stream",
     "text": [
      "100%|██████████| 1/1 [00:00<00:00,  1.18it/s,  Scrolling down on the main page]"
     ]
    },
    {
     "name": "stdout",
     "output_type": "stream",
     "text": [
      "CPU times: user 94.9 ms, sys: 11.8 ms, total: 107 ms\n",
      "Wall time: 1.31 s\n"
     ]
    },
    {
     "name": "stderr",
     "output_type": "stream",
     "text": [
      "\n"
     ]
    }
   ],
   "source": [
    "%%time\n",
    "\n",
    "MAX_NFT_NB = 25#select_number()\n",
    "CURRENT_PAGE_NUMBER = int(browser.current_url.split(\"page=\")[-1].split(\"&\")[0])\n",
    "NFT_NUMBER_PER_PAGE = int(browser.current_url.split(\"rows=\")[-1].split(\"&\")[0])\n",
    "if MAX_NFT_NB/NFT_NUMBER_PER_PAGE == MAX_NFT_NB//NFT_NUMBER_PER_PAGE:\n",
    "  scroll_down = np.arange((MAX_NFT_NB//NFT_NUMBER_PER_PAGE)-1)\n",
    "else:\n",
    "  scroll_down = np.arange(MAX_NFT_NB//NFT_NUMBER_PER_PAGE)\n",
    "for i in tqdm(scroll_down, postfix=' Scrolling down on the main page'):\n",
    "  while CURRENT_PAGE_NUMBER == (browser.current_url.split(\"page=\")[-1]).split(\"&\")[0]:\n",
    "    browser.execute_script(\"window.scrollTo(0, document.body.scrollHeight);\")\n",
    "  CURRENT_PAGE_NUMBER = (browser.current_url.split(\"page=\")[-1]).split(\"&\")[0]"
   ]
  },
  {
   "cell_type": "markdown",
   "metadata": {},
   "source": [
    "## 3. Récupération des liens des pages détaillées\n",
    "- Détection des boutons donnant accès aux infos détaillées"
   ]
  },
  {
   "cell_type": "code",
   "execution_count": 5,
   "metadata": {},
   "outputs": [
    {
     "name": "stderr",
     "output_type": "stream",
     "text": [
      "32it [00:08,  3.88it/s,  Searching of NFT detailed pages]                        "
     ]
    },
    {
     "name": "stdout",
     "output_type": "stream",
     "text": [
      "CPU times: user 104 ms, sys: 12.8 ms, total: 116 ms\n",
      "Wall time: 8.32 s\n"
     ]
    },
    {
     "name": "stderr",
     "output_type": "stream",
     "text": [
      "\n"
     ]
    }
   ],
   "source": [
    "%%time\n",
    "\n",
    "detailed_pages = []\n",
    "pbar = tqdm(total = MAX_NFT_NB, postfix=\" Searching of NFT detailed pages\")\n",
    "BAR_LEVEL = 0\n",
    "while len(detailed_pages) < MAX_NFT_NB:\n",
    "  browser.execute_script(\"window.scrollTo(0, document.body.scrollHeight);\")\n",
    "  detailed_pages = browser.find_elements_by_xpath('//button[contains(text(),\"BSC\")]')\n",
    "  pbar.update(max(0,len(detailed_pages)-BAR_LEVEL))\n",
    "  BAR_LEVEL = len(detailed_pages)\n",
    "pbar.close()"
   ]
  },
  {
   "cell_type": "markdown",
   "metadata": {},
   "source": [
    "## 4. Parcours des pages détaillés\n",
    "- Récupération des données utiles sur les nft\n",
    "- Nettoyage des chaînes de caractères\n",
    "- Stockage des dictionnaires de données\n",
    "- Fermeture du navigateur distant"
   ]
  },
  {
   "cell_type": "code",
   "execution_count": 6,
   "metadata": {},
   "outputs": [
    {
     "name": "stderr",
     "output_type": "stream",
     "text": [
      "100%|██████████| 32/32 [07:57<00:00, 14.94s/it,  Scraping of detailed NFT pages]\n"
     ]
    },
    {
     "name": "stdout",
     "output_type": "stream",
     "text": [
      "CPU times: user 8.8 s, sys: 2.04 s, total: 10.8 s\n",
      "Wall time: 8min 5s\n"
     ]
    }
   ],
   "source": [
    "%%time\n",
    "rm_old_save=True\n",
    "save_file = f'binance_{datetime.now()}.txt'.replace(\":\",\"\")\n",
    "\n",
    "for page in tqdm(detailed_pages, postfix=\" Scraping of detailed NFT pages\"):\n",
    "  page.click()\n",
    "  browser.switch_to.window(browser.window_handles[-1])\n",
    "  add_to_json(parse_nft(browser), save_file)\n",
    "  browser.close()\n",
    "  browser.switch_to.window(browser.window_handles[-1])\n",
    "\n",
    "if rm_old_save:\n",
    "    [os.remove(file) for file in os.listdir('.') if file.find('.json')!=-1]    \n",
    "os.rename(save_file, save_file.replace(\".txt\",\".json\"))\n",
    "browser.quit()"
   ]
  },
  {
   "cell_type": "markdown",
   "metadata": {},
   "source": [
    "___"
   ]
  },
  {
   "cell_type": "code",
   "execution_count": 59,
   "metadata": {},
   "outputs": [],
   "source": [
    "# Process the data\n",
    "def process_data(nft):\n",
    "    nft['id'] = str(hash(nft['contract_address']))\n",
    "    nft['date'] = str(datetime.now())\n",
    "    amount, currency = nft['currency'].split(' ')\n",
    "    nft['amount'] = float(amount)\n",
    "    nft['currency'] = currency\n",
    "    return nft"
   ]
  },
  {
   "cell_type": "code",
   "execution_count": 60,
   "metadata": {},
   "outputs": [],
   "source": [
    "# Necessary packages\n",
    "import json\n",
    "import requests\n",
    "\n",
    "# Fetch the data\n",
    "filename = save_file.replace(\"txt\", \"json\")\n",
    "with open(filename, 'r') as f:\n",
    "    data = json.load(f)\n",
    "\n",
    "# Apply processing\n",
    "nfts = [*map(process_data, data)]"
   ]
  },
  {
   "cell_type": "code",
   "execution_count": 61,
   "metadata": {},
   "outputs": [
    {
     "data": {
      "text/plain": [
       "{'id': '-4118167953241571505',\n",
       " 'name': 'CAM 2D 1914 849/990',\n",
       " 'image': 'https://public.nftstatic.com/static/nft/zipped/724d1bb0179d4df9aa7e40ddd79c8017_zipped.jpeg',\n",
       " 'amount': 29.9,\n",
       " 'currency': 'BUSD',\n",
       " 'creator': 'CAM13',\n",
       " 'date': '2021-09-22 14:05:18.924785',\n",
       " 'description': 'Em 1914, foi realizado o primeiro torneio oficial de futebol de Minas Gerais: a Taça Bueno Brandão. O Atlético Mineiro disputou quatro partidas, ganhou três e empatou uma, tornando-se campeão invicto, o primeiro título de sua história. Esta camisa é parte da coleção de 13 camisas icônicas do Galo. Complete a coleção 2D e ganhe um NFT exclusivo, que não estará à venda, e um vídeo de agradecimento de um craque do Galo.',\n",
       " 'contract_address': '0x1dDB2C0897daF18632662E71fdD2dbDC0eB3a9Ec',\n",
       " 'link': 'https://www.binance.com/en/nft/goods/detail?productId=7570214&isProduct=1'}"
      ]
     },
     "execution_count": 61,
     "metadata": {},
     "output_type": "execute_result"
    }
   ],
   "source": [
    "data[0]"
   ]
  },
  {
   "cell_type": "code",
   "execution_count": 64,
   "metadata": {},
   "outputs": [
    {
     "name": "stdout",
     "output_type": "stream",
     "text": [
      "Success=0/32; Failure=1/32 - {'detail': 'Method Not Allowed'}\n",
      "Success=0/32; Failure=2/32 - {'detail': 'Method Not Allowed'}\n"
     ]
    }
   ],
   "source": [
    "success = 0\n",
    "failure = 0\n",
    "total = len(nfts)\n",
    "\n",
    "for nft in nfts[:2]:\n",
    "    url = 'http://api:8000/nft'\n",
    "    headers = {'accept': 'application/json', 'Content-Type': 'application/json'}\n",
    "    res = requests.post(url, data=json.dumps(nft), headers=headers)\n",
    "    if res.status_code == 201:\n",
    "        success += 1\n",
    "    else:\n",
    "        failure += 1\n",
    "    print(f\"Success={success}/{total}; Failure={failure}/{total} - {res.json()}\")"
   ]
  },
  {
   "cell_type": "code",
   "execution_count": 65,
   "metadata": {},
   "outputs": [
    {
     "name": "stdout",
     "output_type": "stream",
     "text": [
      "405\n",
      "\n",
      "{'detail': 'Method Not Allowed'}\n",
      "\n",
      "{\"detail\":\"Method Not Allowed\"}\n",
      "\n",
      "Method Not Allowed\n"
     ]
    }
   ],
   "source": [
    "res = requests.post(url, data=json.dumps(nft), headers=headers)\n",
    "\n",
    "print(res.status_code)\n",
    "print()\n",
    "print(res.json())\n",
    "print()\n",
    "print(res.text)\n",
    "print()\n",
    "print(res.reason)"
   ]
  },
  {
   "cell_type": "code",
   "execution_count": 66,
   "metadata": {},
   "outputs": [
    {
     "data": {
      "text/plain": [
       "'[]'"
      ]
     },
     "execution_count": 66,
     "metadata": {},
     "output_type": "execute_result"
    }
   ],
   "source": [
    "requests.get('http://api:8000/nfts').text"
   ]
  },
  {
   "cell_type": "code",
   "execution_count": null,
   "metadata": {},
   "outputs": [],
   "source": []
  },
  {
   "cell_type": "code",
   "execution_count": null,
   "metadata": {},
   "outputs": [],
   "source": []
  }
 ],
 "metadata": {
  "interpreter": {
   "hash": "0eeb57d4dde8fd4c0e4b6c9c7d66c254bbbc2170b156cb0afaeb61e00573a5f5"
  },
  "kernelspec": {
   "display_name": "Python 3 (ipykernel)",
   "language": "python",
   "name": "python3"
  },
  "language_info": {
   "codemirror_mode": {
    "name": "ipython",
    "version": 3
   },
   "file_extension": ".py",
   "mimetype": "text/x-python",
   "name": "python",
   "nbconvert_exporter": "python",
   "pygments_lexer": "ipython3",
   "version": "3.8.12"
  }
 },
 "nbformat": 4,
 "nbformat_minor": 2
}
