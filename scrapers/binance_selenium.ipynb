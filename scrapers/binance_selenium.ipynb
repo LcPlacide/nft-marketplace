{
 "cells": [
  {
   "cell_type": "markdown",
   "metadata": {},
   "source": [
    "# Mise à jour de la BDD de NFT\n",
    "Source: [binance.com](https://www.binance.com/en/nft/market?currency=&mediaType=&tradeType=&amountFrom=&amountTo=&categorys=&keyword=&page=1&rows=16&productIds=&order=list_time%40-1)"
   ]
  },
  {
   "cell_type": "code",
   "execution_count": 1,
   "metadata": {},
   "outputs": [],
   "source": [
    "import os\n",
    "import time\n",
    "import numpy as np\n",
    "from utils import *\n",
    "from tqdm import tqdm\n",
    "from selenium import webdriver\n",
    "from selenium.webdriver.common.desired_capabilities import DesiredCapabilities"
   ]
  },
  {
   "cell_type": "markdown",
   "metadata": {},
   "source": [
    "## 1. Ouverture du marketplace\n",
    "\n",
    "- Paramétrage du navigateur distant\n",
    "- Chargement de la page d'accueil\n",
    "- Activation des cookies "
   ]
  },
  {
   "cell_type": "code",
   "execution_count": 2,
   "metadata": {},
   "outputs": [
    {
     "name": "stdout",
     "output_type": "stream",
     "text": [
      "CPU times: user 10.8 ms, sys: 5.64 ms, total: 16.4 ms\n",
      "Wall time: 9.24 s\n"
     ]
    }
   ],
   "source": [
    "%%time\n",
    "start_url = 'https://www.binance.com/en/nft/market?currency=&mediaType=&tradeType=&amountFrom=&amountTo=&categorys=&keyword=&page=1&rows=16&productIds=&order=list_time%40-1'\n",
    "browser = webdriver.Remote(\"http://selenium:4444/wd/hub\", DesiredCapabilities.FIREFOX)\n",
    "browser.get(start_url)\n",
    "cookies = browser.find_element_by_xpath(\"//button[contains(text(),'Accept')]\")\n",
    "cookies.click()"
   ]
  },
  {
   "cell_type": "markdown",
   "metadata": {},
   "source": [
    "## 2. Défilement des pages sur le marketplace\n",
    " - Choix du nombre de nft à récupérer\n",
    " - Chargement des pages contenant les nfts à récuperer "
   ]
  },
  {
   "cell_type": "code",
   "execution_count": 3,
   "metadata": {},
   "outputs": [
    {
     "name": "stderr",
     "output_type": "stream",
     "text": [
      "100%|██████████| 1/1 [00:00<00:00, 29.30it/s,  Scrolling down on the main page]"
     ]
    },
    {
     "name": "stdout",
     "output_type": "stream",
     "text": [
      "CPU times: user 36.7 ms, sys: 17.6 ms, total: 54.3 ms\n",
      "Wall time: 161 ms\n"
     ]
    },
    {
     "name": "stderr",
     "output_type": "stream",
     "text": [
      "\n"
     ]
    }
   ],
   "source": [
    "%%time\n",
    "\n",
    "MAX_NFT_NB = 25#select_number()\n",
    "CURRENT_PAGE_NUMBER = int(browser.current_url.split(\"page=\")[-1].split(\"&\")[0])\n",
    "NFT_NUMBER_PER_PAGE = int(browser.current_url.split(\"rows=\")[-1].split(\"&\")[0])\n",
    "if MAX_NFT_NB/NFT_NUMBER_PER_PAGE == MAX_NFT_NB//NFT_NUMBER_PER_PAGE:\n",
    "  scroll_down = np.arange((MAX_NFT_NB//NFT_NUMBER_PER_PAGE)-1)\n",
    "else:\n",
    "  scroll_down = np.arange(MAX_NFT_NB//NFT_NUMBER_PER_PAGE)\n",
    "for i in tqdm(scroll_down, postfix=' Scrolling down on the main page'):\n",
    "  while CURRENT_PAGE_NUMBER == (browser.current_url.split(\"page=\")[-1]).split(\"&\")[0]:\n",
    "    browser.execute_script(\"window.scrollTo(0, document.body.scrollHeight);\")\n",
    "  CURRENT_PAGE_NUMBER = (browser.current_url.split(\"page=\")[-1]).split(\"&\")[0]"
   ]
  },
  {
   "cell_type": "markdown",
   "metadata": {},
   "source": [
    "## 3. Récupération des liens des pages détaillées\n",
    "- Détection des boutons donnant accès aux infos détaillées"
   ]
  },
  {
   "cell_type": "code",
   "execution_count": 4,
   "metadata": {},
   "outputs": [
    {
     "name": "stderr",
     "output_type": "stream",
     "text": [
      "32it [00:02, 12.40it/s,  Searching of NFT detailed pages]                         "
     ]
    },
    {
     "name": "stdout",
     "output_type": "stream",
     "text": [
      "CPU times: user 148 ms, sys: 38.2 ms, total: 186 ms\n",
      "Wall time: 2.59 s\n"
     ]
    },
    {
     "name": "stderr",
     "output_type": "stream",
     "text": [
      "\n"
     ]
    }
   ],
   "source": [
    "%%time\n",
    "\n",
    "detailed_pages = []\n",
    "pbar = tqdm(total = MAX_NFT_NB, postfix=\" Searching of NFT detailed pages\")\n",
    "BAR_LEVEL = 0\n",
    "while len(detailed_pages) < MAX_NFT_NB:\n",
    "  browser.execute_script(\"window.scrollTo(0, document.body.scrollHeight);\")\n",
    "  detailed_pages = browser.find_elements_by_xpath('//button[contains(text(),\"BSC\")]')\n",
    "  pbar.update(max(0,len(detailed_pages)-BAR_LEVEL))\n",
    "  BAR_LEVEL = len(detailed_pages)\n",
    "pbar.close()"
   ]
  },
  {
   "cell_type": "markdown",
   "metadata": {},
   "source": [
    "## 4. Parcours des pages détaillés\n",
    "- Récupération des données utiles sur les nft\n",
    "- Nettoyage des chaînes de caractères\n",
    "- Stockage des dictionnaires de données\n",
    "- Fermeture du navigateur distant"
   ]
  },
  {
   "cell_type": "code",
   "execution_count": 5,
   "metadata": {},
   "outputs": [
    {
     "name": "stderr",
     "output_type": "stream",
     "text": [
      "100%|██████████| 32/32 [01:49<00:00,  3.43s/it,  Scraping of detailed NFT pages]\n"
     ]
    },
    {
     "name": "stdout",
     "output_type": "stream",
     "text": [
      "CPU times: user 1.98 s, sys: 589 ms, total: 2.57 s\n",
      "Wall time: 1min 50s\n"
     ]
    }
   ],
   "source": [
    "%%time\n",
    "rm_old_save=True\n",
    "save_file = f'binance_{datetime.now()}.txt'.replace(\":\",\"\")\n",
    "\n",
    "for page in tqdm(detailed_pages, postfix=\" Scraping of detailed NFT pages\"):\n",
    "  page.click()\n",
    "  browser.switch_to.window(browser.window_handles[-1])\n",
    "  add_to_json(parse_nft(browser), save_file)\n",
    "  browser.close()\n",
    "  browser.switch_to.window(browser.window_handles[-1])\n",
    "\n",
    "if rm_old_save:\n",
    "    [os.remove(file) for file in os.listdir('.') if file.find('.json')!=-1]    \n",
    "os.rename(save_file, save_file.replace(\".txt\",\".json\"))\n",
    "browser.quit()"
   ]
  },
  {
   "cell_type": "markdown",
   "metadata": {},
   "source": [
    "___"
   ]
  },
  {
   "cell_type": "code",
   "execution_count": 6,
   "metadata": {},
   "outputs": [],
   "source": [
    "# Process the data\n",
    "def process_data(nft):\n",
    "    del nft['id']# = str(hash(nft['contract_address']))\n",
    "    nft['date'] = str(datetime.now())\n",
    "    amount, currency = nft['currency'].split(' ')\n",
    "    nft['amount'] = float(amount)\n",
    "    nft['currency'] = currency\n",
    "    return nft"
   ]
  },
  {
   "cell_type": "code",
   "execution_count": 7,
   "metadata": {},
   "outputs": [],
   "source": [
    "# Necessary packages\n",
    "import json\n",
    "import requests\n",
    "\n",
    "# Fetch the data\n",
    "filename = save_file.replace(\"txt\", \"json\")\n",
    "with open(filename, 'r') as f:\n",
    "    data = json.load(f)\n",
    "\n",
    "# Apply processing\n",
    "nfts = [*map(process_data, data)]"
   ]
  },
  {
   "cell_type": "code",
   "execution_count": 8,
   "metadata": {},
   "outputs": [
    {
     "data": {
      "text/plain": [
       "{'name': 'Floyd Mayweather',\n",
       " 'image': 'https://public.nftstatic.com/static/nft/zipped/c1a617b0ba8e44f78f6ba82aab9b4224_zipped.jpeg',\n",
       " 'amount': 0.3,\n",
       " 'currency': 'ETH',\n",
       " 'creator': 'NFTshka',\n",
       " 'date': '2021-09-23 10:11:31.727693',\n",
       " 'description': 'Author Krenz137',\n",
       " 'contract_address': '0x1dDB2C0897daF18632662E71fdD2dbDC0eB3a9Ec',\n",
       " 'link': 'https://www.binance.com/en/nft/goods/detail?productId=7621124&isProduct=1'}"
      ]
     },
     "execution_count": 8,
     "metadata": {},
     "output_type": "execute_result"
    }
   ],
   "source": [
    "nfts[0]"
   ]
  },
  {
   "cell_type": "code",
   "execution_count": 12,
   "metadata": {},
   "outputs": [
    {
     "name": "stdout",
     "output_type": "stream",
     "text": [
      "Success=0/32; Failure=32/32 - 409\r"
     ]
    }
   ],
   "source": [
    "success = 0\n",
    "failure = 0\n",
    "total = len(nfts)\n",
    "\n",
    "for nft in nfts:\n",
    "    url = 'http://api:8000/add_nft'\n",
    "    headers = {'accept': 'application/json', 'Content-Type': 'application/json'}\n",
    "    res = requests.post(url, data=json.dumps(nft), headers=headers)\n",
    "    if res.status_code == 201:\n",
    "        success += 1\n",
    "    else:\n",
    "        failure += 1\n",
    "    print(f\"Success={success}/{total}; Failure={failure}/{total} - {res.status_code}\", end=\"\\r\")"
   ]
  },
  {
   "cell_type": "code",
   "execution_count": 10,
   "metadata": {},
   "outputs": [
    {
     "data": {
      "text/plain": [
       "'{\"date\":\"2021-09-23 10:11:36.897236\",\"status\":\"Success\"}'"
      ]
     },
     "execution_count": 10,
     "metadata": {},
     "output_type": "execute_result"
    }
   ],
   "source": [
    "res.text"
   ]
  },
  {
   "cell_type": "code",
   "execution_count": null,
   "metadata": {},
   "outputs": [],
   "source": []
  },
  {
   "cell_type": "code",
   "execution_count": 11,
   "metadata": {},
   "outputs": [
    {
     "data": {
      "text/plain": [
       "'[{\"_id\":\"614b4e10ea9d15827ee632ed\",\"name\":\"Jejune Hustler\",\"image\":\"https://lh3.googleusercontent.com/Hu8R9ZDsElNZ_S3bnbUGIY3vS6h3wjzm15d7ZOjoMJp17omUKtY3h78syRh2jaVQUiA34Ml0O2881vHlHtymipIpGz0_jcNCMTDuWA=w600\",\"amount\":0.0001,\"currency\":\"ETH\",\"creator\":\"Neon District Season One Item\",\"date\":\"March 17, 2022 at 1:46pm CEST\",\"description\":\"Armor found within Neon District. \\\\nA Neon District: Season One game item, playable on https://portal.neondistrict.io.\\\\nNeon District is a free-to-play cyberpunk role-playing game. Collect characters and gear, craft and level up teams, and battle against other players through competitive multiplayer and in turn-based combat.\",\"contract_address\":\"0x7227e371540cf7b8e512544ba6871472031f3335\",\"link\":\"https://opensea.io/assets/matic/0x7227e371540cf7b8e512544ba6871472031f3335/158456332462567099841992013138\"},{\"_id\":\"614b4ed4ea9d15827ee632f2\",\"name\":\"Abstract\",\"image\":\"https://public.nftstatic.com/static/nft/zipped/84f8bfb7bde64a3298f57dc3bb1c05d9_zipped.png\",\"amount\":5.0,\"currency\":\"BUSD\",\"creator\":\"Serizawa\",\"date\":\"2021-09-22 15:42:09.141682\",\"description\":\"-\",\"contract_address\":\"0x1dDB2C0897daF18632662E71fdD2dbDC0eB3a9Ec\",\"link\":\"https://www.binance.com/en/nft/goods/detail?productId=7578517&isProduct=1\"},{\"_id\":\"614b4ed4ea9d15827ee632f4\",\"name\":\"Unicorn. Edition 27\",\"image\":\"https://public.nftstatic.com/static/nft/zipped/1935fbe1ccf642c9b0446357e48cd9f0_zipped.gif\",\"amount\":70.0,\"currency\":\"BUSD\",\"creator\":\"NIFTS\",\"date\":\"2021-09-22 15:42:09.141723\",\"description\":\"The unicorn is a legendary creature that has been described since antiquity as a beast with a single large, pointed, spiraling horn projecting from its forehead.\\\\n\\\\nUnicorn. Edition 27/50\\\\n\\\\nMade by Uzhve\\\\n@uzhve\\\\n\\\\nAnimated and Curated by NIFTS\\\\n@nifts.official\",\"contract_address\":\"0x1dDB2C0897daF18632662E71fdD2dbDC0eB3a9Ec\",\"link\":\"https://www.binance.com/en/nft/goods/detail?productId=7578690&isProduct=1\"},{\"_id\":\"614b4ed4ea9d15827ee632f6\",\"name\":\"Leopard pixel\",\"image\":\"https://public.nftstatic.com/static/nft/zipped/c91ba07eac314ea3a6a44fd799d76776_zipped.jpeg\",\"amount\":179.0,\"currency\":\"BUSD\",\"creator\":\"Arttraveller\",\"date\":\"2021-09-22 15:42:09.141728\",\"description\":\"Best hunter leopard\",\"contract_address\":\"0x1dDB2C0897daF18632662E71fdD2dbDC0eB3a9Ec\",\"link\":\"https://www.binance.com/en/nft/goods/detail?productId=7578685&isProduct=1\"},{\"_id\":\"614b4ed4ea9d15827ee632f8\",\"name\":\"Abstract\",\"image\":\"https://public.nftstatic.com/static/nft/zipped/18734998acf64e918ac840068d80023e_zipped.png\",\"amount\":5.0,\"currency\":\"BUSD\",\"creator\":\"Serizawa\",\"date\":\"2021-09-22 15:42:09.141731\",\"description\":\"-\",\"contract_address\":\"0x1dDB2C0897daF18632662E71fdD2dbDC0eB3a9Ec\",\"link\":\"https://www.binance.com/en/nft/goods/detail?productId=7578496&isProduct=1\"},{\"_id\":\"614b4ed4ea9d15827ee632fa\",\"name\":\"#90\",\"image\":\"https://public.nftstatic.com/static/nft/zipped/8acd88c37f0b46688bc6ff4a58761ac5_zipped.gif\",\"amount\":27.0,\"currency\":\"BUSD\",\"creator\":\"Serizawa\",\"date\":\"2021-09-22 15:42:09.141735\",\"description\":\"-\",\"contract_address\":\"0x1dDB2C0897daF18632662E71fdD2dbDC0eB3a9Ec\",\"link\":\"https://www.binance.com/en/nft/goods/detail?productId=7578673&isProduct=1\"},{\"_id\":\"614b4ed4ea9d15827ee632fc\",\"name\":\"Spiral of Confusion (Piece 21 of 50)\",\"image\":\"https://public.nftstatic.com/static/nft/zipped/d7c19fc5553341c293618875f6471e52_zipped.gif\",\"amount\":70.0,\"currency\":\"BUSD\",\"creator\":\"YunusKullebi\",\"date\":\"2021-09-22 15:42:09.141738\",\"description\":\"The Quark triangle and its guardians, one of the special and rare treasures hidden within the quark universe.\\\\n\\\\nFormat : Animated 3D\\\\nStyle : Loop\",\"contract_address\":\"0x1dDB2C0897daF18632662E71fdD2dbDC0eB3a9Ec\",\"link\":\"https://www.binance.com/en/nft/goods/detail?productId=7578669&isProduct=1\"},{\"_id\":\"614b4ed4ea9d15827ee632fe\",\"name\":\"Fox. Edition 34\",\"image\":\"https://public.nftstatic.com/static/nft/zipped/5c6e3b69846b42158729f89b9f6added_zipped.jpeg\",\"amount\":65.0,\"currency\":\"BUSD\",\"creator\":\"NIFTS\",\"date\":\"2021-09-22 15:42:09.141742\",\"description\":\"Until recently, Moscow was covered in snow. And the giant ultra-foxes were sleeping peacefully in the courtyards of the \\\\\"round houses\\\\\" they loved so much. But now it\\'s spring. This means that the foxes will soon go away from the city, from civilization, to equip their summer ultra-burrows. For me personally, spring is always kind of illusion of a new beginning.\\\\n\\\\nFox. Edition 34/35\\\\n\\\\nMade by Soloviev Vadim\\\\n@solovyewadim\\\\n\\\\nCurated by NIFTS\\\\n@nifts.official\",\"contract_address\":\"0x1dDB2C0897daF18632662E71fdD2dbDC0eB3a9Ec\",\"link\":\"https://www.binance.com/en/nft/goods/detail?productId=7578668&isProduct=1\"},{\"_id\":\"614b4ed4ea9d15827ee63300\",\"name\":\"hitchhiking to a blue fish\",\"image\":\"https://public.nftstatic.com/static/nft/zipped/51f8b91e5a5a4b5ea6d1aef0e90c9b38_zipped.png\",\"amount\":50.0,\"currency\":\"BUSD\",\"creator\":\"HestiaM\",\"date\":\"2021-09-22 15:42:09.141744\",\"description\":\"dream whatever you want..\",\"contract_address\":\"0x1dDB2C0897daF18632662E71fdD2dbDC0eB3a9Ec\",\"link\":\"https://www.binance.com/en/nft/goods/detail?productId=7578664&isProduct=1\"},{\"_id\":\"614b4ed4ea9d15827ee63302\",\"name\":\"Abstract\",\"image\":\"https://public.nftstatic.com/static/nft/zipped/eb4cf3fd584442a5b3e2d0b6d062b3e3_zipped.png\",\"amount\":5.0,\"currency\":\"BUSD\",\"creator\":\"Serizawa\",\"date\":\"2021-09-22 15:42:09.141747\",\"description\":\"-\",\"contract_address\":\"0x1dDB2C0897daF18632662E71fdD2dbDC0eB3a9Ec\",\"link\":\"https://www.binance.com/en/nft/goods/detail?productId=7578476&isProduct=1\"}]'"
      ]
     },
     "execution_count": 11,
     "metadata": {},
     "output_type": "execute_result"
    }
   ],
   "source": [
    "requests.get('http://api:8000/nfts').text"
   ]
  },
  {
   "cell_type": "code",
   "execution_count": null,
   "metadata": {},
   "outputs": [],
   "source": []
  },
  {
   "cell_type": "code",
   "execution_count": null,
   "metadata": {},
   "outputs": [],
   "source": []
  }
 ],
 "metadata": {
  "interpreter": {
   "hash": "0eeb57d4dde8fd4c0e4b6c9c7d66c254bbbc2170b156cb0afaeb61e00573a5f5"
  },
  "kernelspec": {
   "display_name": "Python 3 (ipykernel)",
   "language": "python",
   "name": "python3"
  },
  "language_info": {
   "codemirror_mode": {
    "name": "ipython",
    "version": 3
   },
   "file_extension": ".py",
   "mimetype": "text/x-python",
   "name": "python",
   "nbconvert_exporter": "python",
   "pygments_lexer": "ipython3",
   "version": "3.8.12"
  }
 },
 "nbformat": 4,
 "nbformat_minor": 2
}
