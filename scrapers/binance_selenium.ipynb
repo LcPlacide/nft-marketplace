{
 "cells": [
  {
   "cell_type": "markdown",
   "metadata": {},
   "source": [
    "# Mise à jour de la BDD de NFT\n",
    "Source: [binance.com](https://www.binance.com/en/nft/market?currency=&mediaType=&tradeType=&amountFrom=&amountTo=&categorys=&keyword=&page=1&rows=16&productIds=&order=list_time%40-1)"
   ]
  },
  {
   "cell_type": "code",
   "execution_count": 1,
   "metadata": {},
   "outputs": [],
   "source": [
    "import os\n",
    "import time\n",
    "import requests\n",
    "import numpy as np\n",
    "from utils import *\n",
    "from tqdm import tqdm\n",
    "from selenium import webdriver\n",
    "from selenium.webdriver.common.desired_capabilities import DesiredCapabilities"
   ]
  },
  {
   "cell_type": "markdown",
   "metadata": {},
   "source": [
    "## 1. Ouverture du marketplace\n",
    "\n",
    "- Paramétrage du navigateur distant\n",
    "- Chargement de la page d'accueil\n",
    "- Activation des cookies "
   ]
  },
  {
   "cell_type": "code",
   "execution_count": null,
   "metadata": {},
   "outputs": [],
   "source": [
    "%%time\n",
    "start_url = 'https://www.binance.com/en/nft/market?currency=&mediaType=&tradeType=&amountFrom=&amountTo=&categorys=&keyword=&page=1&rows=16&productIds=&order=list_time%40-1'\n",
    "browser = webdriver.Remote(\"http://selenium:4444/wd/hub\", DesiredCapabilities.FIREFOX)\n",
    "browser.get(start_url)\n",
    "cookies = browser.find_element_by_xpath(\"//button[contains(text(),'Accept')]\")\n",
    "cookies.click()"
   ]
  },
  {
   "cell_type": "markdown",
   "metadata": {},
   "source": [
    "## 2. Défilement des pages sur le marketplace\n",
    " - Choix du nombre de nft à récupérer\n",
    " - Chargement des pages contenant les nfts à récuperer "
   ]
  },
  {
   "cell_type": "code",
   "execution_count": null,
   "metadata": {},
   "outputs": [],
   "source": [
    "%%time\n",
    "\n",
    "MAX_NFT_NB = 16#select_number()\n",
    "CURRENT_PAGE_NUMBER = int(browser.current_url.split(\"page=\")[-1].split(\"&\")[0])\n",
    "NFT_NUMBER_PER_PAGE = int(browser.current_url.split(\"rows=\")[-1].split(\"&\")[0])\n",
    "if MAX_NFT_NB/NFT_NUMBER_PER_PAGE == MAX_NFT_NB//NFT_NUMBER_PER_PAGE:\n",
    "  scroll_down = np.arange((MAX_NFT_NB//NFT_NUMBER_PER_PAGE)-1)\n",
    "else:\n",
    "  scroll_down = np.arange(MAX_NFT_NB//NFT_NUMBER_PER_PAGE)\n",
    "for i in tqdm(scroll_down, postfix=' Scrolling down on the main page'):\n",
    "  while CURRENT_PAGE_NUMBER == (browser.current_url.split(\"page=\")[-1]).split(\"&\")[0]:\n",
    "    browser.execute_script(\"window.scrollTo(0, document.body.scrollHeight);\")\n",
    "  CURRENT_PAGE_NUMBER = (browser.current_url.split(\"page=\")[-1]).split(\"&\")[0]"
   ]
  },
  {
   "cell_type": "markdown",
   "metadata": {},
   "source": [
    "## 3. Récupération des liens des pages détaillées\n",
    "- Détection des boutons donnant accès aux infos détaillées"
   ]
  },
  {
   "cell_type": "code",
   "execution_count": null,
   "metadata": {},
   "outputs": [],
   "source": [
    "%%time\n",
    "\n",
    "detailed_pages = []\n",
    "pbar = tqdm(total = MAX_NFT_NB, postfix=\" Searching of NFT detailed pages\")\n",
    "BAR_LEVEL = 0\n",
    "while len(detailed_pages) < MAX_NFT_NB:\n",
    "  browser.execute_script(\"window.scrollTo(0, document.body.scrollHeight);\")\n",
    "  detailed_pages = browser.find_elements_by_xpath('//button[contains(text(),\"BSC\")]')\n",
    "  pbar.update(max(0,len(detailed_pages)-BAR_LEVEL))\n",
    "  BAR_LEVEL = len(detailed_pages)\n",
    "pbar.close()"
   ]
  },
  {
   "cell_type": "markdown",
   "metadata": {},
   "source": [
    "## 4. Parcours des pages détaillés\n",
    "- Récupération des données utiles sur les nft\n",
    "- Nettoyage des chaînes de caractères\n",
    "- Stockage des dictionnaires de données\n",
    "- Fermeture du navigateur distant"
   ]
  },
  {
   "cell_type": "code",
   "execution_count": null,
   "metadata": {},
   "outputs": [],
   "source": [
    "%%time\n",
    "success = 0\n",
    "failure = 0\n",
    "total = len(detailed_pages)\n",
    "\n",
    "for page in tqdm(detailed_pages, postfix=\" Scraping of detailed NFT pages\"):\n",
    "  page.click()\n",
    "  browser.switch_to.window(browser.window_handles[-1])\n",
    "  res= parse_nft(browser)\n",
    "  if res.status_code == 201:\n",
    "        success += 1\n",
    "  else:\n",
    "        failure += 1\n",
    "  browser.close()\n",
    "  browser.switch_to.window(browser.window_handles[-1])\n",
    "    \n",
    "print(f\"Success={success}/{total}; Failure={failure}/{total} - {res.status_code}\", end=\"\\r\")\n",
    "print(f\"NFT collection shape: {requests.get('http://api:8000/nfts/').text.count('_id')}\")\n",
    "browser.quit()"
   ]
  }
 ],
 "metadata": {
  "interpreter": {
   "hash": "0eeb57d4dde8fd4c0e4b6c9c7d66c254bbbc2170b156cb0afaeb61e00573a5f5"
  },
  "kernelspec": {
   "display_name": "Python 3 (ipykernel)",
   "language": "python",
   "name": "python3"
  },
  "language_info": {
   "codemirror_mode": {
    "name": "ipython",
    "version": 3
   },
   "file_extension": ".py",
   "mimetype": "text/x-python",
   "name": "python",
   "nbconvert_exporter": "python",
   "pygments_lexer": "ipython3",
   "version": "3.8.6"
  }
 },
 "nbformat": 4,
 "nbformat_minor": 2
}
