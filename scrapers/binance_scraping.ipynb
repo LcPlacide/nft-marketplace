{
 "cells": [
  {
   "cell_type": "markdown",
   "metadata": {},
   "source": [
    "# Mise à jour de la BDD de NFT\n",
    "Source: [binance.com](https://www.binance.com/en/nft/market?currency=&mediaType=&tradeType=&amountFrom=&amountTo=&categorys=&keyword=&page=1&rows=16&productIds=&order=list_time%40-1)"
   ]
  },
  {
   "cell_type": "code",
   "execution_count": 1,
   "metadata": {},
   "outputs": [
    {
     "name": "stderr",
     "output_type": "stream",
     "text": [
      "/root/.local/share/virtualenvs/code-AFz48Hjb/lib/python3.8/site-packages/requests/__init__.py:89: RequestsDependencyWarning: urllib3 (1.26.7) or chardet (3.0.4) doesn't match a supported version!\n",
      "  warnings.warn(\"urllib3 ({}) or chardet ({}) doesn't match a supported \"\n"
     ]
    }
   ],
   "source": [
    "import os\n",
    "import time\n",
    "import requests\n",
    "import numpy as np\n",
    "from utils import *\n",
    "from tqdm import tqdm\n",
    "from selenium import webdriver\n",
    "from selenium.webdriver.common.desired_capabilities import DesiredCapabilities"
   ]
  },
  {
   "cell_type": "markdown",
   "metadata": {},
   "source": [
    "## 1. Ouverture du marketplace\n",
    "\n",
    "- Paramétrage du navigateur distant\n",
    "- Chargement de la page d'accueil\n",
    "- Activation des cookies "
   ]
  },
  {
   "cell_type": "code",
   "execution_count": null,
   "metadata": {},
   "outputs": [],
   "source": [
    "%%time\n",
    "start_url = 'https://www.binance.com/en/nft/market?currency=&mediaType=&tradeType=&amountFrom=&amountTo=&categorys=&keyword=&page=1&rows=16&productIds=&order=list_time%40-1'\n",
    "options = webdriver.ChromeOptions()\n",
    "options.add_argument('--headless')\n",
    "browser = webdriver.Remote(\"http://selenium:4444/wd/hub\", options=options)\n",
    "browser.get(start_url)\n",
    "cookies = browser.find_element_by_xpath(\"//button[contains(text(),'Accept')]\")\n",
    "cookies.click()"
   ]
  },
  {
   "cell_type": "markdown",
   "metadata": {},
   "source": [
    "## 2. Défilement des pages sur le marketplace\n",
    " - Choix du nombre de nft à récupérer\n",
    " - Chargement des pages contenant les nfts à récuperer "
   ]
  },
  {
   "cell_type": "code",
   "execution_count": null,
   "metadata": {},
   "outputs": [],
   "source": [
    "%%time\n",
    "\n",
    "MAX_NFT_NB = 10#select_number()\n",
    "CURRENT_PAGE_NUMBER = int(browser.current_url.split(\"page=\")[-1].split(\"&\")[0])\n",
    "NFT_NUMBER_PER_PAGE = int(browser.current_url.split(\"rows=\")[-1].split(\"&\")[0])\n",
    "if MAX_NFT_NB/NFT_NUMBER_PER_PAGE == MAX_NFT_NB//NFT_NUMBER_PER_PAGE:\n",
    "    scroll_down = np.arange((MAX_NFT_NB//NFT_NUMBER_PER_PAGE)-1)\n",
    "else:\n",
    "    scroll_down = np.arange(MAX_NFT_NB//NFT_NUMBER_PER_PAGE)\n",
    "for i in tqdm(scroll_down, postfix=' Scrolling down on the main page'):\n",
    "    while CURRENT_PAGE_NUMBER == (browser.current_url.split(\"page=\")[-1]).split(\"&\")[0]:\n",
    "        browser.execute_script(\"window.scrollTo(0, document.body.scrollHeight);\")\n",
    "    CURRENT_PAGE_NUMBER = (browser.current_url.split(\"page=\")[-1]).split(\"&\")[0]"
   ]
  },
  {
   "cell_type": "markdown",
   "metadata": {},
   "source": [
    "## 3. Récupération des liens des pages détaillées\n",
    "- Détection des boutons donnant accès aux infos détaillées"
   ]
  },
  {
   "cell_type": "code",
   "execution_count": null,
   "metadata": {},
   "outputs": [],
   "source": [
    "%%time\n",
    "\n",
    "detailed_pages = []\n",
    "pbar = tqdm(total = MAX_NFT_NB, postfix=\" Searching of NFT detailed pages\")\n",
    "BAR_LEVEL = 0\n",
    "while len(detailed_pages) < MAX_NFT_NB:\n",
    "  browser.execute_script(\"window.scrollTo(0, document.body.scrollHeight);\")\n",
    "  detailed_pages = browser.find_elements_by_xpath('//button[contains(text(),\"BSC\")]')\n",
    "  pbar.update(max(0,len(detailed_pages)-BAR_LEVEL))\n",
    "  BAR_LEVEL = len(detailed_pages)\n",
    "pbar.close()"
   ]
  },
  {
   "cell_type": "markdown",
   "metadata": {},
   "source": [
    "## 4. Parcours des pages détaillés\n",
    "- Récupération des données utiles sur les nft\n",
    "- Nettoyage des chaînes de caractères\n",
    "- Stockage des dictionnaires de données\n",
    "- Fermeture du navigateur distant"
   ]
  },
  {
   "cell_type": "code",
   "execution_count": null,
   "metadata": {},
   "outputs": [],
   "source": [
    "%%time\n",
    "success = 0\n",
    "failure = 0\n",
    "total = len(detailed_pages)\n",
    "\n",
    "for page in tqdm(detailed_pages, postfix=\" Scraping of detailed NFT pages\"):\n",
    "    page.click()\n",
    "    browser.switch_to.window(browser.window_handles[-1])\n",
    "    res= parse_nft(browser)\n",
    "    if res.status_code == 201:\n",
    "        success += 1\n",
    "    else:\n",
    "        failure += 1\n",
    "    browser.close()\n",
    "    browser.switch_to.window(browser.window_handles[-1])\n",
    "\n",
    "print(f\"Success={success}/{total}; Failure={failure}/{total} - {res.status_code}\")\n",
    "print(f\"NFT collection shape: {requests.get('http://api:8000/nfts/').text.count('_id')}\")\n",
    "browser.quit()"
   ]
  },
  {
   "cell_type": "markdown",
   "metadata": {},
   "source": [
    "## 5. Automatisation du scraping de nfts\n",
    "- Lancement du processus toutes les 5h"
   ]
  },
  {
   "cell_type": "code",
   "execution_count": null,
   "metadata": {},
   "outputs": [],
   "source": [
    "#%%writefile nft.py\n",
    "\n",
    "from utils import *\n",
    "\n",
    "WAIT = 2*60 # 5h = 18000s\n",
    "MAX_NFT_NB = 16\n",
    "NEXT_START = datetime.now()+timedelta(seconds=WAIT)\n",
    "start_url = 'https://www.binance.com/en/nft/market?currency=&mediaType=&tradeType=&amountFrom=&amountTo=&categorys=&keyword=&page=1&rows=16&productIds=&order=list_time%40-1'\n",
    "browser= None\n",
    "\n",
    "while True:\n",
    "    browser = open_binance(start_url, browser) # ouverture du marketplace\n",
    "    scroll_down(browser, MAX_NFT_NB) # scroll down sur marketplace\n",
    "    detailed_pages = find_detailed_nft_pages(browser, MAX_NFT_NB) # recherche de pages détaillées\n",
    "    parse_detailed_nft_pages(browser, detailed_pages) # scraping des pages détaillées\n",
    "    NEXT_START = wait_next_scraping(NEXT_START, WAIT) # attente avant prochain scraping "
   ]
  },
  {
   "cell_type": "markdown",
   "metadata": {},
   "source": [
    "## 6. Automatisation du scraping de cryptos\n",
    "- Lancement du processus toutes les 15 minutes"
   ]
  },
  {
   "cell_type": "code",
   "execution_count": null,
   "metadata": {},
   "outputs": [
    {
     "name": "stdout",
     "output_type": "stream",
     "text": [
      "2021-10-07 08:53:56: New scraping initiated\n",
      "2021-10-07 08:53:56: Selenium configuration\n",
      "2021-10-07 08:54:03: Binance page correctly opened\n",
      "2021-10-07 08:54:03: Searching of crypto pages\n"
     ]
    },
    {
     "name": "stderr",
     "output_type": "stream",
     "text": [
      "2021-10-07 08:54:04: Scraping of crypto pages: 100%|██████████| 19/19 [00:20<00:00,  1.10s/it]\n"
     ]
    },
    {
     "name": "stdout",
     "output_type": "stream",
     "text": [
      "2021-10-07 08:54:39: Storage on database (Success=368/368; Failure=0/368)\n"
     ]
    },
    {
     "name": "stderr",
     "output_type": "stream",
     "text": [
      "2021-10-07 08:54:39: Waiting for next scraping: 0it [00:00, ?it/s]"
     ]
    },
    {
     "name": "stdout",
     "output_type": "stream",
     "text": [
      "2021-10-07 08:54:39: New scraping initiated\n"
     ]
    },
    {
     "name": "stderr",
     "output_type": "stream",
     "text": [
      "\n"
     ]
    },
    {
     "name": "stdout",
     "output_type": "stream",
     "text": [
      "2021-10-07 08:54:41: Binance page correctly opened\n",
      "2021-10-07 08:54:41: Searching of crypto pages\n"
     ]
    },
    {
     "name": "stderr",
     "output_type": "stream",
     "text": [
      "2021-10-07 08:54:43: Scraping of crypto pages: 100%|██████████| 19/19 [00:15<00:00,  1.25it/s]\n"
     ]
    },
    {
     "name": "stdout",
     "output_type": "stream",
     "text": [
      "2021-10-07 08:55:10: Storage on database (Success=368/368; Failure=0/368)\n"
     ]
    },
    {
     "name": "stderr",
     "output_type": "stream",
     "text": [
      "2021-10-07 08:55:10: Waiting for next scraping: 0it [00:00, ?it/s]"
     ]
    },
    {
     "name": "stdout",
     "output_type": "stream",
     "text": [
      "2021-10-07 08:55:10: New scraping initiated\n"
     ]
    },
    {
     "name": "stderr",
     "output_type": "stream",
     "text": [
      "\n"
     ]
    },
    {
     "name": "stdout",
     "output_type": "stream",
     "text": [
      "2021-10-07 08:55:13: Binance page correctly opened\n",
      "2021-10-07 08:55:13: Searching of crypto pages\n"
     ]
    },
    {
     "name": "stderr",
     "output_type": "stream",
     "text": [
      "2021-10-07 08:55:14: Scraping of crypto pages: 100%|██████████| 19/19 [00:14<00:00,  1.34it/s]\n"
     ]
    },
    {
     "name": "stdout",
     "output_type": "stream",
     "text": [
      "2021-10-07 08:55:40: Storage on database (Success=368/368; Failure=0/368)\n"
     ]
    },
    {
     "name": "stderr",
     "output_type": "stream",
     "text": [
      "2021-10-07 08:55:40: Waiting for next scraping: 0it [00:00, ?it/s]"
     ]
    },
    {
     "name": "stdout",
     "output_type": "stream",
     "text": [
      "2021-10-07 08:55:40: New scraping initiated\n"
     ]
    },
    {
     "name": "stderr",
     "output_type": "stream",
     "text": [
      "\n"
     ]
    },
    {
     "name": "stdout",
     "output_type": "stream",
     "text": [
      "2021-10-07 08:55:42: Binance page correctly opened\n",
      "2021-10-07 08:55:42: Searching of crypto pages\n"
     ]
    },
    {
     "name": "stderr",
     "output_type": "stream",
     "text": [
      "2021-10-07 08:55:44: Scraping of crypto pages: 100%|██████████| 19/19 [00:18<00:00,  1.04it/s]\n"
     ]
    },
    {
     "name": "stdout",
     "output_type": "stream",
     "text": [
      "2021-10-07 08:56:20: Storage on database (Success=368/368; Failure=0/368)\n"
     ]
    },
    {
     "name": "stderr",
     "output_type": "stream",
     "text": [
      "2021-10-07 08:56:20: Waiting for next scraping: 0it [00:00, ?it/s]"
     ]
    },
    {
     "name": "stdout",
     "output_type": "stream",
     "text": [
      "2021-10-07 08:56:20: New scraping initiated\n"
     ]
    },
    {
     "name": "stderr",
     "output_type": "stream",
     "text": [
      "\n"
     ]
    },
    {
     "name": "stdout",
     "output_type": "stream",
     "text": [
      "2021-10-07 08:56:22: Binance page correctly opened\n",
      "2021-10-07 08:56:22: Searching of crypto pages\n"
     ]
    },
    {
     "name": "stderr",
     "output_type": "stream",
     "text": [
      "2021-10-07 08:56:24: Scraping of crypto pages: 100%|██████████| 19/19 [00:13<00:00,  1.36it/s]\n"
     ]
    },
    {
     "name": "stdout",
     "output_type": "stream",
     "text": [
      "2021-10-07 08:56:49: Storage on database (Success=368/368; Failure=0/368)\n"
     ]
    },
    {
     "name": "stderr",
     "output_type": "stream",
     "text": [
      "2021-10-07 08:56:49: Waiting for next scraping: 0it [00:00, ?it/s]"
     ]
    },
    {
     "name": "stdout",
     "output_type": "stream",
     "text": [
      "2021-10-07 08:56:49: New scraping initiated\n"
     ]
    },
    {
     "name": "stderr",
     "output_type": "stream",
     "text": [
      "\n"
     ]
    },
    {
     "name": "stdout",
     "output_type": "stream",
     "text": [
      "2021-10-07 08:56:51: Binance page correctly opened\n",
      "2021-10-07 08:56:51: Searching of crypto pages\n"
     ]
    },
    {
     "name": "stderr",
     "output_type": "stream",
     "text": [
      "2021-10-07 08:56:52: Scraping of crypto pages: 100%|██████████| 19/19 [00:14<00:00,  1.31it/s]\n"
     ]
    },
    {
     "name": "stdout",
     "output_type": "stream",
     "text": [
      "2021-10-07 08:57:19: Storage on database (Success=368/368; Failure=0/368)\n"
     ]
    },
    {
     "name": "stderr",
     "output_type": "stream",
     "text": [
      "2021-10-07 08:57:19: Waiting for next scraping: 0it [00:00, ?it/s]"
     ]
    },
    {
     "name": "stdout",
     "output_type": "stream",
     "text": [
      "2021-10-07 08:57:19: New scraping initiated\n"
     ]
    },
    {
     "name": "stderr",
     "output_type": "stream",
     "text": [
      "\n"
     ]
    },
    {
     "name": "stdout",
     "output_type": "stream",
     "text": [
      "2021-10-07 08:57:23: Binance page correctly opened\n",
      "2021-10-07 08:57:23: Searching of crypto pages\n"
     ]
    },
    {
     "name": "stderr",
     "output_type": "stream",
     "text": [
      "2021-10-07 08:57:24: Scraping of crypto pages: 100%|██████████| 19/19 [00:17<00:00,  1.06it/s]\n"
     ]
    },
    {
     "name": "stdout",
     "output_type": "stream",
     "text": [
      "2021-10-07 08:57:57: Storage on database (Success=368/368; Failure=0/368)\n"
     ]
    },
    {
     "name": "stderr",
     "output_type": "stream",
     "text": [
      "2021-10-07 08:57:57: Waiting for next scraping: 0it [00:00, ?it/s]"
     ]
    },
    {
     "name": "stdout",
     "output_type": "stream",
     "text": [
      "2021-10-07 08:57:57: New scraping initiated\n"
     ]
    },
    {
     "name": "stderr",
     "output_type": "stream",
     "text": [
      "\n"
     ]
    },
    {
     "name": "stdout",
     "output_type": "stream",
     "text": [
      "2021-10-07 08:58:00: Binance page correctly opened\n",
      "2021-10-07 08:58:00: Searching of crypto pages\n"
     ]
    },
    {
     "name": "stderr",
     "output_type": "stream",
     "text": [
      "2021-10-07 08:58:01: Scraping of crypto pages: 100%|██████████| 19/19 [00:18<00:00,  1.04it/s]\n"
     ]
    },
    {
     "name": "stdout",
     "output_type": "stream",
     "text": [
      "2021-10-07 08:58:32: Storage on database (Success=368/368; Failure=0/368)\n"
     ]
    },
    {
     "name": "stderr",
     "output_type": "stream",
     "text": [
      "2021-10-07 08:58:32: Waiting for next scraping: 0it [00:00, ?it/s]"
     ]
    },
    {
     "name": "stdout",
     "output_type": "stream",
     "text": [
      "2021-10-07 08:58:32: New scraping initiated\n"
     ]
    },
    {
     "name": "stderr",
     "output_type": "stream",
     "text": [
      "\n"
     ]
    },
    {
     "name": "stdout",
     "output_type": "stream",
     "text": [
      "2021-10-07 08:58:36: Binance page correctly opened\n",
      "2021-10-07 08:58:36: Searching of crypto pages\n"
     ]
    },
    {
     "name": "stderr",
     "output_type": "stream",
     "text": [
      "2021-10-07 08:58:37: Scraping of crypto pages: 100%|██████████| 19/19 [00:21<00:00,  1.15s/it]\n"
     ]
    },
    {
     "name": "stdout",
     "output_type": "stream",
     "text": [
      "2021-10-07 08:59:09: Storage on database (Success=368/368; Failure=0/368)\n"
     ]
    },
    {
     "name": "stderr",
     "output_type": "stream",
     "text": [
      "2021-10-07 08:59:09: Waiting for next scraping: 0it [00:00, ?it/s]"
     ]
    },
    {
     "name": "stdout",
     "output_type": "stream",
     "text": [
      "2021-10-07 08:59:09: New scraping initiated\n"
     ]
    },
    {
     "name": "stderr",
     "output_type": "stream",
     "text": [
      "\n"
     ]
    },
    {
     "name": "stdout",
     "output_type": "stream",
     "text": [
      "2021-10-07 08:59:12: Binance page correctly opened\n",
      "2021-10-07 08:59:12: Searching of crypto pages\n"
     ]
    },
    {
     "name": "stderr",
     "output_type": "stream",
     "text": [
      "2021-10-07 08:59:13: Scraping of crypto pages: 100%|██████████| 19/19 [00:16<00:00,  1.16it/s]\n"
     ]
    },
    {
     "name": "stdout",
     "output_type": "stream",
     "text": [
      "2021-10-07 08:59:40: Storage on database (Success=368/368; Failure=0/368)\n"
     ]
    },
    {
     "name": "stderr",
     "output_type": "stream",
     "text": [
      "2021-10-07 08:59:40: Waiting for next scraping: 0it [00:00, ?it/s]"
     ]
    },
    {
     "name": "stdout",
     "output_type": "stream",
     "text": [
      "2021-10-07 08:59:40: New scraping initiated\n"
     ]
    },
    {
     "name": "stderr",
     "output_type": "stream",
     "text": [
      "\n"
     ]
    },
    {
     "name": "stdout",
     "output_type": "stream",
     "text": [
      "2021-10-07 08:59:43: Binance page correctly opened\n",
      "2021-10-07 08:59:43: Searching of crypto pages\n"
     ]
    },
    {
     "name": "stderr",
     "output_type": "stream",
     "text": [
      "2021-10-07 08:59:44: Scraping of crypto pages: 100%|██████████| 19/19 [00:13<00:00,  1.38it/s]\n"
     ]
    },
    {
     "name": "stdout",
     "output_type": "stream",
     "text": [
      "2021-10-07 09:00:11: Storage on database (Success=368/368; Failure=0/368)\n"
     ]
    },
    {
     "name": "stderr",
     "output_type": "stream",
     "text": [
      "2021-10-07 09:00:11: Waiting for next scraping: 0it [00:00, ?it/s]"
     ]
    },
    {
     "name": "stdout",
     "output_type": "stream",
     "text": [
      "2021-10-07 09:00:11: New scraping initiated\n"
     ]
    },
    {
     "name": "stderr",
     "output_type": "stream",
     "text": [
      "\n"
     ]
    },
    {
     "name": "stdout",
     "output_type": "stream",
     "text": [
      "2021-10-07 09:00:13: Binance page correctly opened\n",
      "2021-10-07 09:00:13: Searching of crypto pages\n"
     ]
    },
    {
     "name": "stderr",
     "output_type": "stream",
     "text": [
      "2021-10-07 09:00:16: Scraping of crypto pages: 100%|██████████| 19/19 [00:17<00:00,  1.11it/s]\n"
     ]
    },
    {
     "name": "stdout",
     "output_type": "stream",
     "text": [
      "2021-10-07 09:00:44: Storage on database (Success=368/368; Failure=0/368)\n"
     ]
    },
    {
     "name": "stderr",
     "output_type": "stream",
     "text": [
      "2021-10-07 09:00:44: Waiting for next scraping: 0it [00:00, ?it/s]"
     ]
    },
    {
     "name": "stdout",
     "output_type": "stream",
     "text": [
      "2021-10-07 09:00:44: New scraping initiated\n"
     ]
    },
    {
     "name": "stderr",
     "output_type": "stream",
     "text": [
      "\n"
     ]
    },
    {
     "name": "stdout",
     "output_type": "stream",
     "text": [
      "2021-10-07 09:00:46: Binance page correctly opened\n",
      "2021-10-07 09:00:46: Searching of crypto pages\n"
     ]
    },
    {
     "name": "stderr",
     "output_type": "stream",
     "text": [
      "2021-10-07 09:00:48: Scraping of crypto pages: 100%|██████████| 19/19 [00:14<00:00,  1.32it/s]\n"
     ]
    },
    {
     "name": "stdout",
     "output_type": "stream",
     "text": [
      "2021-10-07 09:01:13: Storage on database (Success=368/368; Failure=0/368)\n"
     ]
    },
    {
     "name": "stderr",
     "output_type": "stream",
     "text": [
      "2021-10-07 09:01:13: Waiting for next scraping: 0it [00:00, ?it/s]"
     ]
    },
    {
     "name": "stdout",
     "output_type": "stream",
     "text": [
      "2021-10-07 09:01:13: New scraping initiated\n"
     ]
    },
    {
     "name": "stderr",
     "output_type": "stream",
     "text": [
      "\n"
     ]
    },
    {
     "name": "stdout",
     "output_type": "stream",
     "text": [
      "2021-10-07 09:01:15: Binance page correctly opened\n",
      "2021-10-07 09:01:15: Searching of crypto pages\n"
     ]
    },
    {
     "name": "stderr",
     "output_type": "stream",
     "text": [
      "2021-10-07 09:01:16: Scraping of crypto pages:  84%|████████▍ | 16/19 [00:12<00:02,  1.19it/s]"
     ]
    }
   ],
   "source": [
    "#%%writefile crypto.py\n",
    "\n",
    "from utils import *\n",
    "\n",
    "#WAIT = 3*60 # in seconds\n",
    "WAIT = 1 # 30s\n",
    "NEXT_START = datetime.now()+timedelta(seconds=WAIT)\n",
    "start_url = 'https://www.binance.com/fr/markets'\n",
    "browser = None\n",
    "\n",
    "while True:\n",
    "    browser = open_binance(start_url, browser, handle_cookies=False) # ouverture de la page principale des cryptos\n",
    "    nb_pages = find_crypto_pages(browser) # recherche de pages additionnelles\n",
    "    parse_crypto_pages(browser, nb_pages) # scraping des pages de cryptos\n",
    "    NEXT_START = wait_next_scraping(NEXT_START, WAIT) # attente avant prochain scraping"
   ]
  },
  {
   "cell_type": "code",
   "execution_count": null,
   "metadata": {},
   "outputs": [],
   "source": []
  }
 ],
 "metadata": {
  "interpreter": {
   "hash": "0eeb57d4dde8fd4c0e4b6c9c7d66c254bbbc2170b156cb0afaeb61e00573a5f5"
  },
  "kernelspec": {
   "display_name": "Python 3 (ipykernel)",
   "language": "python",
   "name": "python3"
  },
  "language_info": {
   "codemirror_mode": {
    "name": "ipython",
    "version": 3
   },
   "file_extension": ".py",
   "mimetype": "text/x-python",
   "name": "python",
   "nbconvert_exporter": "python",
   "pygments_lexer": "ipython3",
   "version": "3.8.12"
  }
 },
 "nbformat": 4,
 "nbformat_minor": 2
}
